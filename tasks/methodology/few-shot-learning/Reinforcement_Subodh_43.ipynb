{
 "cells": [
  {
   "cell_type": "code",
   "execution_count": 1,
   "metadata": {},
   "outputs": [
    {
     "name": "stderr",
     "output_type": "stream",
     "text": [
      "Using TensorFlow backend.\n"
     ]
    }
   ],
   "source": [
    "import gym\n",
    "import numpy as np\n",
    "from keras.models     import Sequential\n",
    "from keras.layers     import Dense\n",
    "from keras.optimizers import Adam\n",
    "import random"
   ]
  },
  {
   "cell_type": "code",
   "execution_count": 2,
   "metadata": {},
   "outputs": [],
   "source": [
    "env = gym.make('CartPole-v1')\n",
    "env.reset()\n",
    "goal_steps = 500\n",
    "score_requirement = 60\n",
    "intial_games = 10000"
   ]
  },
  {
   "cell_type": "code",
   "execution_count": 3,
   "metadata": {},
   "outputs": [],
   "source": [
    "def playgame():\n",
    "    for step_index in range(goal_steps):\n",
    "        action = env.action_space.sample()\n",
    "        observation, reward, done, info = env.step(action)\n",
    "        print(\"Step {}:\".format(step_index))\n",
    "        print(\"action: {}\".format(action))\n",
    "        print(\"observation: {}\".format(observation))\n",
    "        print(\"reward: {}\".format(reward))\n",
    "        print(\"done: {}\".format(done))\n",
    "        print(\"info: {}\".format(info))\n",
    "        if done:\n",
    "            break\n",
    "    env.reset()"
   ]
  },
  {
   "cell_type": "code",
   "execution_count": 4,
   "metadata": {},
   "outputs": [
    {
     "name": "stdout",
     "output_type": "stream",
     "text": [
      "Step 0:\n",
      "action: 0\n",
      "observation: [ 0.02672348 -0.20565988  0.04800755  0.25844915]\n",
      "reward: 1.0\n",
      "done: False\n",
      "info: {}\n",
      "Step 1:\n",
      "action: 0\n",
      "observation: [ 0.02261028 -0.40143316  0.05317653  0.56587953]\n",
      "reward: 1.0\n",
      "done: False\n",
      "info: {}\n",
      "Step 2:\n",
      "action: 1\n",
      "observation: [ 0.01458162 -0.20709597  0.06449412  0.29041233]\n",
      "reward: 1.0\n",
      "done: False\n",
      "info: {}\n",
      "Step 3:\n",
      "action: 0\n",
      "observation: [ 0.0104397  -0.40307543  0.07030237  0.60271848]\n",
      "reward: 1.0\n",
      "done: False\n",
      "info: {}\n",
      "Step 4:\n",
      "action: 0\n",
      "observation: [ 0.00237819 -0.59910663  0.08235674  0.9166908 ]\n",
      "reward: 1.0\n",
      "done: False\n",
      "info: {}\n",
      "Step 5:\n",
      "action: 0\n",
      "observation: [-0.00960394 -0.7952398   0.10069055  1.23407892]\n",
      "reward: 1.0\n",
      "done: False\n",
      "info: {}\n",
      "Step 6:\n",
      "action: 0\n",
      "observation: [-0.02550874 -0.9915016   0.12537213  1.55653354]\n",
      "reward: 1.0\n",
      "done: False\n",
      "info: {}\n",
      "Step 7:\n",
      "action: 0\n",
      "observation: [-0.04533877 -1.18788255  0.1565028   1.88555585]\n",
      "reward: 1.0\n",
      "done: False\n",
      "info: {}\n",
      "Step 8:\n",
      "action: 0\n",
      "observation: [-0.06909642 -1.38432268  0.19421392  2.22243906]\n",
      "reward: 1.0\n",
      "done: False\n",
      "info: {}\n",
      "Step 9:\n",
      "action: 0\n",
      "observation: [-0.09678287 -1.58069524  0.2386627   2.56820071]\n",
      "reward: 1.0\n",
      "done: True\n",
      "info: {}\n"
     ]
    }
   ],
   "source": [
    "playgame()"
   ]
  },
  {
   "cell_type": "code",
   "execution_count": 5,
   "metadata": {},
   "outputs": [],
   "source": [
    "def modeldp():\n",
    "    training_data = []\n",
    "    accepted_scores = []\n",
    "    for game_index in range(intial_games):\n",
    "        score = 0\n",
    "        game_memory = []\n",
    "        previous_observation = []\n",
    "        for step_index in range(goal_steps):\n",
    "            action = random.randrange(0, 2)\n",
    "            observation, reward, done, info = env.step(action)\n",
    "            if len(previous_observation) > 0:\n",
    "                game_memory.append([previous_observation, action])                \n",
    "            previous_observation = observation\n",
    "            score += reward\n",
    "            if done:\n",
    "                break            \n",
    "        if score >= score_requirement:\n",
    "            accepted_scores.append(score)\n",
    "            for data in game_memory:\n",
    "                if data[1] == 1:\n",
    "                    output = [0, 1]\n",
    "                elif data[1] == 0:\n",
    "                    output = [1, 0]\n",
    "                training_data.append([data[0], output])\n",
    "        \n",
    "        env.reset()\n",
    "\n",
    "    print(sum(accepted_scores)/len(accepted_scores))   \n",
    "    return training_data"
   ]
  },
  {
   "cell_type": "code",
   "execution_count": 6,
   "metadata": {},
   "outputs": [
    {
     "name": "stdout",
     "output_type": "stream",
     "text": [
      "70.37142857142857\n"
     ]
    }
   ],
   "source": [
    "training_data = modeldp()"
   ]
  },
  {
   "cell_type": "code",
   "execution_count": 7,
   "metadata": {},
   "outputs": [],
   "source": [
    "def build_model(input_size, output_size):\n",
    "    model = Sequential()\n",
    "    model.add(Dense(1024, input_dim=input_size, activation='relu'))\n",
    "    model.add(Dense(512, activation='relu'))\n",
    "    model.add(Dense(128, activation='relu'))\n",
    "    model.add(Dense(output_size, activation='linear'))\n",
    "    model.compile(loss='mse', optimizer=Adam())\n",
    "    return model"
   ]
  },
  {
   "cell_type": "code",
   "execution_count": 8,
   "metadata": {},
   "outputs": [],
   "source": [
    "def train_model(training_data):\n",
    "    X = np.array([i[0] for i in training_data]).reshape(-1, len(training_data[0][0]))\n",
    "    y = np.array([i[1] for i in training_data]).reshape(-1, len(training_data[0][1]))\n",
    "    model = build_model(input_size=len(X[0]), output_size=len(y[0]))\n",
    "    model.fit(X, y, epochs=20)\n",
    "    return model"
   ]
  },
  {
   "cell_type": "code",
   "execution_count": 9,
   "metadata": {},
   "outputs": [
    {
     "name": "stdout",
     "output_type": "stream",
     "text": [
      "WARNING:tensorflow:From //anaconda3/lib/python3.7/site-packages/keras/backend/tensorflow_backend.py:66: The name tf.get_default_graph is deprecated. Please use tf.compat.v1.get_default_graph instead.\n",
      "\n",
      "WARNING:tensorflow:From //anaconda3/lib/python3.7/site-packages/keras/backend/tensorflow_backend.py:541: The name tf.placeholder is deprecated. Please use tf.compat.v1.placeholder instead.\n",
      "\n",
      "WARNING:tensorflow:From //anaconda3/lib/python3.7/site-packages/keras/backend/tensorflow_backend.py:4432: The name tf.random_uniform is deprecated. Please use tf.random.uniform instead.\n",
      "\n",
      "WARNING:tensorflow:From //anaconda3/lib/python3.7/site-packages/keras/optimizers.py:793: The name tf.train.Optimizer is deprecated. Please use tf.compat.v1.train.Optimizer instead.\n",
      "\n",
      "WARNING:tensorflow:From //anaconda3/lib/python3.7/site-packages/keras/backend/tensorflow_backend.py:1033: The name tf.assign_add is deprecated. Please use tf.compat.v1.assign_add instead.\n",
      "\n",
      "WARNING:tensorflow:From //anaconda3/lib/python3.7/site-packages/keras/backend/tensorflow_backend.py:1020: The name tf.assign is deprecated. Please use tf.compat.v1.assign instead.\n",
      "\n",
      "Epoch 1/20\n",
      "9712/9712 [==============================] - 2s 203us/step - loss: 0.2463\n",
      "Epoch 2/20\n",
      "9712/9712 [==============================] - 2s 174us/step - loss: 0.2355\n",
      "Epoch 3/20\n",
      "9712/9712 [==============================] - 2s 178us/step - loss: 0.2351\n",
      "Epoch 4/20\n",
      "9712/9712 [==============================] - 2s 177us/step - loss: 0.2332\n",
      "Epoch 5/20\n",
      "9712/9712 [==============================] - 2s 168us/step - loss: 0.2331\n",
      "Epoch 6/20\n",
      "9712/9712 [==============================] - 2s 179us/step - loss: 0.2325\n",
      "Epoch 7/20\n",
      "9712/9712 [==============================] - 2s 190us/step - loss: 0.2319\n",
      "Epoch 8/20\n",
      "9712/9712 [==============================] - 2s 172us/step - loss: 0.2319\n",
      "Epoch 9/20\n",
      "9712/9712 [==============================] - 2s 180us/step - loss: 0.2313\n",
      "Epoch 10/20\n",
      "9712/9712 [==============================] - 2s 170us/step - loss: 0.2312\n",
      "Epoch 11/20\n",
      "9712/9712 [==============================] - 2s 170us/step - loss: 0.2311\n",
      "Epoch 12/20\n",
      "9712/9712 [==============================] - 2s 172us/step - loss: 0.2314\n",
      "Epoch 13/20\n",
      "9712/9712 [==============================] - 2s 174us/step - loss: 0.2307\n",
      "Epoch 14/20\n",
      "9712/9712 [==============================] - 2s 185us/step - loss: 0.2304\n",
      "Epoch 15/20\n",
      "9712/9712 [==============================] - 2s 169us/step - loss: 0.2301\n",
      "Epoch 16/20\n",
      "9712/9712 [==============================] - 2s 191us/step - loss: 0.2300\n",
      "Epoch 17/20\n",
      "9712/9712 [==============================] - 2s 182us/step - loss: 0.2299\n",
      "Epoch 18/20\n",
      "9712/9712 [==============================] - 2s 192us/step - loss: 0.2302\n",
      "Epoch 19/20\n",
      "9712/9712 [==============================] - 2s 185us/step - loss: 0.2302\n",
      "Epoch 20/20\n",
      "9712/9712 [==============================] - 2s 189us/step - loss: 0.2293\n"
     ]
    }
   ],
   "source": [
    "trained_model = train_model(training_data)"
   ]
  },
  {
   "cell_type": "code",
   "execution_count": 10,
   "metadata": {},
   "outputs": [
    {
     "name": "stdout",
     "output_type": "stream",
     "text": [
      "[152.0, 196.0, 93.0, 95.0, 78.0, 266.0, 84.0, 119.0, 74.0, 132.0, 91.0, 147.0, 90.0, 92.0, 115.0, 206.0, 198.0, 110.0, 116.0, 187.0, 187.0, 86.0, 122.0, 122.0, 204.0, 500.0, 163.0, 90.0, 234.0, 80.0, 139.0, 138.0, 107.0, 128.0, 126.0, 84.0, 177.0, 321.0, 237.0, 209.0, 252.0, 93.0, 186.0, 125.0, 84.0, 99.0, 84.0, 98.0, 228.0, 256.0, 210.0, 148.0, 162.0, 88.0, 160.0, 86.0, 206.0, 92.0, 88.0, 248.0, 122.0, 77.0, 146.0, 182.0, 141.0, 125.0, 92.0, 495.0, 192.0, 202.0, 214.0, 92.0, 109.0, 132.0, 116.0, 146.0, 500.0, 222.0, 74.0, 104.0, 68.0, 108.0, 152.0, 104.0, 93.0, 92.0, 98.0, 88.0, 308.0, 105.0, 271.0, 196.0, 88.0, 130.0, 91.0, 157.0, 260.0, 213.0, 120.0, 140.0]\n",
      "Average Score: 154.53\n"
     ]
    }
   ],
   "source": [
    "scores =  []\n",
    "choices = []\n",
    "for each_game in range(100):\n",
    "    score = 0\n",
    "    prev_obs = []\n",
    "    for step_index in range(goal_steps):\n",
    "        #env.render()\n",
    "        if len(prev_obs)==0:\n",
    "            action = random.randrange(0,2)\n",
    "        else:\n",
    "            action = np.argmax(trained_model.predict(prev_obs.reshape(-1,len(prev_obs)))[0])\n",
    "        choices.append(action)\n",
    "        new_observation, reward, done, info = env.step(action)\n",
    "        prev_obs = new_observation\n",
    "        score+=reward\n",
    "        if done:\n",
    "            break\n",
    "    env.reset()\n",
    "    scores.append(score)\n",
    "print(scores)\n",
    "print('Average Score:',sum(scores)/len(scores))"
   ]
  },
  {
   "cell_type": "code",
   "execution_count": null,
   "metadata": {},
   "outputs": [],
   "source": []
  }
 ],
 "metadata": {
  "kernelspec": {
   "display_name": "Python 3",
   "language": "python",
   "name": "python3"
  },
  "language_info": {
   "codemirror_mode": {
    "name": "ipython",
    "version": 3
   },
   "file_extension": ".py",
   "mimetype": "text/x-python",
   "name": "python",
   "nbconvert_exporter": "python",
   "pygments_lexer": "ipython3",
   "version": "3.7.3"
  }
 },
 "nbformat": 4,
 "nbformat_minor": 2
}
