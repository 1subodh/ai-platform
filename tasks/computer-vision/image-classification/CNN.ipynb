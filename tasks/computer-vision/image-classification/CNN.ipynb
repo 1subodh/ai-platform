{
 "cells": [
  {
   "cell_type": "markdown",
   "metadata": {},
   "source": [
    "### Code to scrape images from google"
   ]
  },
  {
   "cell_type": "code",
   "execution_count": null,
   "metadata": {},
   "outputs": [],
   "source": [
    "from google_images_download import google_images_download   #importing the library\n",
    "response = google_images_download.googleimagesdownload()    #class instantiation\n",
    "arguments = {\"keywords\":\"Dalai Lama,Martin Luther King Jr,Mahatma Gandhi,Nelson Mandela,Swami Vivekananda,Woodrow Wilson,Winston Churchill,Mother Teresa,\"\n",
    "             ,\"limit\":20,\"print_urls\":True}                 #creating list of arguments\n",
    "paths = response.download(arguments)                        #passing the arguments to the function\n",
    "print(paths)                                                #printing absolute paths of the downloaded images"
   ]
  },
  {
   "cell_type": "markdown",
   "metadata": {},
   "source": [
    "### Multiclass Classification"
   ]
  },
  {
   "cell_type": "code",
   "execution_count": 8,
   "metadata": {},
   "outputs": [
    {
     "name": "stderr",
     "output_type": "stream",
     "text": [
      "Using TensorFlow backend.\n"
     ]
    }
   ],
   "source": [
    "from keras import backend as K\n",
    "from keras.models import Sequential\n",
    "from keras.layers.normalization import BatchNormalization\n",
    "from keras.layers.convolutional import Convolution2D, MaxPooling2D, ZeroPadding2D\n",
    "from keras.layers.core import Activation, Flatten, Dropout, Dense\n",
    "from keras.constraints import maxnorm\n",
    "from keras.preprocessing.image import ImageDataGenerator\n",
    "from keras.optimizers import SGD\n",
    "from sklearn.preprocessing import LabelBinarizer\n",
    "from sklearn.model_selection import train_test_split\n",
    "from sklearn.metrics import classification_report\n",
    "from imutils import paths\n",
    "import matplotlib.pyplot as plt\n",
    "import numpy as np\n",
    "import argparse, random, pickle, cv2, os, matplotlib"
   ]
  },
  {
   "cell_type": "code",
   "execution_count": 21,
   "metadata": {},
   "outputs": [],
   "source": [
    "datagen = ImageDataGenerator()\n",
    "data    = []\n",
    "labels  = []"
   ]
  },
  {
   "cell_type": "markdown",
   "metadata": {},
   "source": [
    "### Change your path to downloaded directory where images are scraped"
   ]
  },
  {
   "cell_type": "code",
   "execution_count": 10,
   "metadata": {},
   "outputs": [],
   "source": [
    "imagePaths = sorted(list(paths.list_images('/Users/home/Movies')))\n",
    "random.seed(42)\n",
    "random.shuffle(imagePaths)"
   ]
  },
  {
   "cell_type": "code",
   "execution_count": 11,
   "metadata": {},
   "outputs": [],
   "source": [
    "for imagePath in imagePaths:\n",
    "\timage = cv2.imread(imagePath)\n",
    "\timage = cv2.resize(image, (64, 64))\n",
    "\tdata.append(image)    \n",
    "\tdatagen.apply_transform(image,{'theta':35,'shear':35,'zx':0.4,'zy':0.4})\n",
    "\tdatagen.apply_transform(image,{'zoom_rage':0.4,'rotation_range' : 50})\n",
    "\tdata.append(image)\n",
    "\tdatagen.apply_transform(image,{'theta':10,'shear':10,'zx':0.2,'zy':0.2})\n",
    "\tdatagen.apply_transform(image,{'flip_horizontal':True})\n",
    "\tdatagen.apply_transform(image,{'zoom_rage':0.2})\n",
    "\tdata.append(image)\n",
    "\tlabel = imagePath.split(os.path.sep)[-2]\n",
    "\tlabels.append(label)\n",
    "\tlabels.append(label)\n",
    "\tlabels.append(label)"
   ]
  },
  {
   "cell_type": "code",
   "execution_count": 12,
   "metadata": {},
   "outputs": [
    {
     "data": {
      "text/plain": [
       "(474, 474)"
      ]
     },
     "execution_count": 12,
     "metadata": {},
     "output_type": "execute_result"
    }
   ],
   "source": [
    "len(data),len(labels)"
   ]
  },
  {
   "cell_type": "code",
   "execution_count": 13,
   "metadata": {},
   "outputs": [],
   "source": [
    "data = np.array(data, dtype=\"float\") / 255.0\n",
    "labels = np.array(labels)"
   ]
  },
  {
   "cell_type": "code",
   "execution_count": 14,
   "metadata": {},
   "outputs": [],
   "source": [
    "(trainX, testX, trainY, testY) = train_test_split(data,labels, test_size=0.30, random_state=42)"
   ]
  },
  {
   "cell_type": "code",
   "execution_count": 20,
   "metadata": {},
   "outputs": [],
   "source": [
    "lb = LabelBinarizer()\n",
    "trainY = lb.fit_transform(trainY)\n",
    "testY = lb.transform(testY)"
   ]
  },
  {
   "cell_type": "markdown",
   "metadata": {},
   "source": [
    "### Sliced VGG Architecture"
   ]
  },
  {
   "cell_type": "code",
   "execution_count": 16,
   "metadata": {},
   "outputs": [
    {
     "name": "stdout",
     "output_type": "stream",
     "text": [
      "WARNING:tensorflow:From /Users/home/anaconda3/lib/python3.6/site-packages/tensorflow/python/framework/op_def_library.py:263: colocate_with (from tensorflow.python.framework.ops) is deprecated and will be removed in a future version.\n",
      "Instructions for updating:\n",
      "Colocations handled automatically by placer.\n",
      "WARNING:tensorflow:From /Users/home/anaconda3/lib/python3.6/site-packages/keras/backend/tensorflow_backend.py:3445: calling dropout (from tensorflow.python.ops.nn_ops) with keep_prob is deprecated and will be removed in a future version.\n",
      "Instructions for updating:\n",
      "Please use `rate` instead of `keep_prob`. Rate should be set to `rate = 1 - keep_prob`.\n",
      "_________________________________________________________________\n",
      "Layer (type)                 Output Shape              Param #   \n",
      "=================================================================\n",
      "zero_padding2d_1 (ZeroPaddin (None, 72, 72, 3)         0         \n",
      "_________________________________________________________________\n",
      "conv2d_1 (Conv2D)            (None, 72, 72, 64)        1792      \n",
      "_________________________________________________________________\n",
      "batch_normalization_1 (Batch (None, 72, 72, 64)        256       \n",
      "_________________________________________________________________\n",
      "max_pooling2d_1 (MaxPooling2 (None, 36, 36, 64)        0         \n",
      "_________________________________________________________________\n",
      "conv2d_2 (Conv2D)            (None, 36, 36, 128)       73856     \n",
      "_________________________________________________________________\n",
      "max_pooling2d_2 (MaxPooling2 (None, 18, 18, 128)       0         \n",
      "_________________________________________________________________\n",
      "dropout_1 (Dropout)          (None, 18, 18, 128)       0         \n",
      "_________________________________________________________________\n",
      "conv2d_3 (Conv2D)            (None, 18, 18, 128)       147584    \n",
      "_________________________________________________________________\n",
      "batch_normalization_2 (Batch (None, 18, 18, 128)       512       \n",
      "_________________________________________________________________\n",
      "max_pooling2d_3 (MaxPooling2 (None, 9, 9, 128)         0         \n",
      "_________________________________________________________________\n",
      "conv2d_4 (Conv2D)            (None, 9, 9, 256)         295168    \n",
      "_________________________________________________________________\n",
      "max_pooling2d_4 (MaxPooling2 (None, 4, 4, 256)         0         \n",
      "_________________________________________________________________\n",
      "dropout_2 (Dropout)          (None, 4, 4, 256)         0         \n",
      "_________________________________________________________________\n",
      "conv2d_5 (Conv2D)            (None, 4, 4, 256)         590080    \n",
      "_________________________________________________________________\n",
      "batch_normalization_3 (Batch (None, 4, 4, 256)         1024      \n",
      "_________________________________________________________________\n",
      "max_pooling2d_5 (MaxPooling2 (None, 2, 2, 256)         0         \n",
      "_________________________________________________________________\n",
      "conv2d_6 (Conv2D)            (None, 2, 2, 512)         1180160   \n",
      "_________________________________________________________________\n",
      "max_pooling2d_6 (MaxPooling2 (None, 1, 1, 512)         0         \n",
      "_________________________________________________________________\n",
      "dropout_3 (Dropout)          (None, 1, 1, 512)         0         \n",
      "_________________________________________________________________\n",
      "flatten_1 (Flatten)          (None, 512)               0         \n",
      "_________________________________________________________________\n",
      "dense_1 (Dense)              (None, 1024)              525312    \n",
      "_________________________________________________________________\n",
      "dropout_4 (Dropout)          (None, 1024)              0         \n",
      "_________________________________________________________________\n",
      "dense_2 (Dense)              (None, 128)               131200    \n",
      "_________________________________________________________________\n",
      "dropout_5 (Dropout)          (None, 128)               0         \n",
      "_________________________________________________________________\n",
      "dense_3 (Dense)              (None, 8)                 1032      \n",
      "=================================================================\n",
      "Total params: 2,947,976\n",
      "Trainable params: 2,947,080\n",
      "Non-trainable params: 896\n",
      "_________________________________________________________________\n"
     ]
    }
   ],
   "source": [
    "model = Sequential()\n",
    "model.add(ZeroPadding2D((4,4),input_shape=(64,64,3)))\n",
    "\n",
    "model.add(Convolution2D(64,(3, 3), activation='relu', padding='same'))\n",
    "model.add(BatchNormalization())\n",
    "model.add(MaxPooling2D((2,2), strides=(2,2)))\n",
    "model.add(Convolution2D(128,(3, 3), activation='relu', padding='same'))\n",
    "model.add(MaxPooling2D((2,2), strides=(2,2)))\n",
    "model.add(Dropout(0.4))\n",
    "\n",
    "model.add(Convolution2D(128,(3, 3), activation='relu', padding='same'))\n",
    "model.add(BatchNormalization())\n",
    "model.add(MaxPooling2D((2,2), strides=(2,2)))\n",
    "model.add(Convolution2D(256,(3, 3), activation='relu', padding='same'))\n",
    "model.add(MaxPooling2D((2,2), strides=(2,2)))\n",
    "model.add(Dropout(0.4))\n",
    "\n",
    "model.add(Convolution2D(256,(3, 3), activation='relu', padding='same'))\n",
    "model.add(BatchNormalization())\n",
    "model.add(MaxPooling2D((2,2), strides=(2,2)))\n",
    "model.add(Convolution2D(512,(3, 3), activation='relu', padding='same'))\n",
    "model.add(MaxPooling2D((2,2), strides=(2,2)))\n",
    "model.add(Dropout(0.2))\n",
    "\n",
    "model.add(Flatten())\n",
    "model.add(Dense(1024, input_shape=(4096,), activation=\"relu\", kernel_constraint=maxnorm(3)))\n",
    "model.add(Dropout(0.2))\n",
    "model.add(Dense(128, activation='relu', kernel_constraint=maxnorm(3)))\n",
    "model.add(Dropout(0.2))\n",
    "model.add(Dense(len(lb.classes_), activation=\"softmax\", kernel_constraint=maxnorm(3)))\n",
    "model.summary()\n"
   ]
  },
  {
   "cell_type": "code",
   "execution_count": 17,
   "metadata": {},
   "outputs": [
    {
     "name": "stdout",
     "output_type": "stream",
     "text": [
      "[INFO] training network.....\n"
     ]
    }
   ],
   "source": [
    "BS = 32\n",
    "EPOCHS = 85\n",
    "print(\"[INFO] training network.....\")\n",
    "sgd = SGD(lr=0.007, decay=1e-6, nesterov=True)\n",
    "model.compile(loss=\"categorical_crossentropy\", optimizer=sgd,metrics=[\"accuracy\"])"
   ]
  },
  {
   "cell_type": "code",
   "execution_count": 18,
   "metadata": {},
   "outputs": [
    {
     "name": "stdout",
     "output_type": "stream",
     "text": [
      "WARNING:tensorflow:From /Users/home/anaconda3/lib/python3.6/site-packages/tensorflow/python/ops/math_ops.py:3066: to_int32 (from tensorflow.python.ops.math_ops) is deprecated and will be removed in a future version.\n",
      "Instructions for updating:\n",
      "Use tf.cast instead.\n",
      "Train on 331 samples, validate on 143 samples\n",
      "Epoch 1/85\n",
      "331/331 [==============================] - 13s 38ms/step - loss: 2.2517 - acc: 0.1420 - val_loss: 2.0616 - val_acc: 0.1259\n",
      "Epoch 2/85\n",
      "331/331 [==============================] - 12s 36ms/step - loss: 2.0837 - acc: 0.1752 - val_loss: 2.0210 - val_acc: 0.2238\n",
      "Epoch 3/85\n",
      "331/331 [==============================] - 11s 35ms/step - loss: 2.0397 - acc: 0.1994 - val_loss: 1.9986 - val_acc: 0.2098\n",
      "Epoch 4/85\n",
      "331/331 [==============================] - 11s 34ms/step - loss: 1.9628 - acc: 0.2175 - val_loss: 1.9631 - val_acc: 0.2098\n",
      "Epoch 5/85\n",
      "331/331 [==============================] - 11s 33ms/step - loss: 1.8540 - acc: 0.3051 - val_loss: 1.8770 - val_acc: 0.2517\n",
      "Epoch 6/85\n",
      "331/331 [==============================] - 13s 38ms/step - loss: 1.8312 - acc: 0.2931 - val_loss: 1.8143 - val_acc: 0.2657\n",
      "Epoch 7/85\n",
      "331/331 [==============================] - 18s 54ms/step - loss: 1.6759 - acc: 0.3384 - val_loss: 1.7734 - val_acc: 0.3147\n",
      "Epoch 8/85\n",
      "331/331 [==============================] - 16s 48ms/step - loss: 1.5941 - acc: 0.3686 - val_loss: 1.7408 - val_acc: 0.3217\n",
      "Epoch 9/85\n",
      "331/331 [==============================] - 14s 42ms/step - loss: 1.5439 - acc: 0.4109 - val_loss: 1.7465 - val_acc: 0.2937\n",
      "Epoch 10/85\n",
      "331/331 [==============================] - 13s 38ms/step - loss: 1.5032 - acc: 0.4320 - val_loss: 1.7467 - val_acc: 0.2168\n",
      "Epoch 11/85\n",
      "331/331 [==============================] - 12s 38ms/step - loss: 1.4919 - acc: 0.4018 - val_loss: 1.6974 - val_acc: 0.2797\n",
      "Epoch 12/85\n",
      "331/331 [==============================] - 12s 35ms/step - loss: 1.4354 - acc: 0.4562 - val_loss: 1.5772 - val_acc: 0.3916\n",
      "Epoch 13/85\n",
      "331/331 [==============================] - 12s 36ms/step - loss: 1.4022 - acc: 0.4592 - val_loss: 1.7783 - val_acc: 0.1818\n",
      "Epoch 14/85\n",
      "331/331 [==============================] - 12s 35ms/step - loss: 1.2472 - acc: 0.5468 - val_loss: 1.6106 - val_acc: 0.3077\n",
      "Epoch 15/85\n",
      "331/331 [==============================] - 12s 35ms/step - loss: 1.3398 - acc: 0.5196 - val_loss: 1.5731 - val_acc: 0.3636\n",
      "Epoch 16/85\n",
      "331/331 [==============================] - 12s 35ms/step - loss: 1.2325 - acc: 0.5257 - val_loss: 1.4299 - val_acc: 0.5035\n",
      "Epoch 17/85\n",
      "331/331 [==============================] - 11s 35ms/step - loss: 1.2141 - acc: 0.5287 - val_loss: 1.6161 - val_acc: 0.2657\n",
      "Epoch 18/85\n",
      "331/331 [==============================] - 15s 45ms/step - loss: 1.0974 - acc: 0.6133 - val_loss: 1.5608 - val_acc: 0.3427\n",
      "Epoch 19/85\n",
      "331/331 [==============================] - 14s 42ms/step - loss: 1.1845 - acc: 0.5438 - val_loss: 1.2809 - val_acc: 0.5315\n",
      "Epoch 20/85\n",
      "331/331 [==============================] - 14s 41ms/step - loss: 1.0549 - acc: 0.5921 - val_loss: 1.6838 - val_acc: 0.3147\n",
      "Epoch 21/85\n",
      "331/331 [==============================] - 17s 53ms/step - loss: 1.0646 - acc: 0.5952 - val_loss: 1.4793 - val_acc: 0.3566\n",
      "Epoch 22/85\n",
      "331/331 [==============================] - 16s 48ms/step - loss: 1.0481 - acc: 0.6163 - val_loss: 1.3717 - val_acc: 0.4755\n",
      "Epoch 23/85\n",
      "331/331 [==============================] - 15s 47ms/step - loss: 1.0579 - acc: 0.5952 - val_loss: 1.3749 - val_acc: 0.4406\n",
      "Epoch 24/85\n",
      "331/331 [==============================] - 15s 45ms/step - loss: 1.0324 - acc: 0.6133 - val_loss: 1.2177 - val_acc: 0.4895\n",
      "Epoch 25/85\n",
      "331/331 [==============================] - 13s 41ms/step - loss: 0.9684 - acc: 0.6405 - val_loss: 1.0867 - val_acc: 0.6224\n",
      "Epoch 26/85\n",
      "331/331 [==============================] - 13s 38ms/step - loss: 0.9212 - acc: 0.6858 - val_loss: 1.2135 - val_acc: 0.5245\n",
      "Epoch 27/85\n",
      "331/331 [==============================] - 13s 38ms/step - loss: 0.8968 - acc: 0.6586 - val_loss: 1.2724 - val_acc: 0.4685\n",
      "Epoch 28/85\n",
      "331/331 [==============================] - 12s 36ms/step - loss: 0.9095 - acc: 0.6556 - val_loss: 1.1694 - val_acc: 0.5455\n",
      "Epoch 29/85\n",
      "331/331 [==============================] - 11s 34ms/step - loss: 0.8666 - acc: 0.6767 - val_loss: 1.1782 - val_acc: 0.5315\n",
      "Epoch 30/85\n",
      "331/331 [==============================] - 11s 34ms/step - loss: 0.9187 - acc: 0.6556 - val_loss: 1.1962 - val_acc: 0.5315\n",
      "Epoch 31/85\n",
      "331/331 [==============================] - 14s 41ms/step - loss: 0.8884 - acc: 0.6918 - val_loss: 1.2789 - val_acc: 0.4895\n",
      "Epoch 32/85\n",
      "331/331 [==============================] - 13s 38ms/step - loss: 0.8152 - acc: 0.7009 - val_loss: 1.1572 - val_acc: 0.5315\n",
      "Epoch 33/85\n",
      "331/331 [==============================] - 11s 33ms/step - loss: 0.7905 - acc: 0.6858 - val_loss: 1.3196 - val_acc: 0.4755\n",
      "Epoch 34/85\n",
      "331/331 [==============================] - 11s 32ms/step - loss: 0.8035 - acc: 0.7100 - val_loss: 1.2397 - val_acc: 0.4895\n",
      "Epoch 35/85\n",
      "331/331 [==============================] - 11s 32ms/step - loss: 0.8004 - acc: 0.7281 - val_loss: 1.0628 - val_acc: 0.6224\n",
      "Epoch 36/85\n",
      "331/331 [==============================] - 11s 32ms/step - loss: 0.7942 - acc: 0.7009 - val_loss: 1.0245 - val_acc: 0.6364\n",
      "Epoch 37/85\n",
      "331/331 [==============================] - 11s 33ms/step - loss: 0.7738 - acc: 0.7462 - val_loss: 1.3643 - val_acc: 0.4825\n",
      "Epoch 38/85\n",
      "331/331 [==============================] - 11s 32ms/step - loss: 0.7073 - acc: 0.7251 - val_loss: 1.1843 - val_acc: 0.5315\n",
      "Epoch 39/85\n",
      "331/331 [==============================] - 11s 32ms/step - loss: 0.6907 - acc: 0.7492 - val_loss: 1.2452 - val_acc: 0.4476\n",
      "Epoch 40/85\n",
      "331/331 [==============================] - 11s 32ms/step - loss: 0.7029 - acc: 0.7492 - val_loss: 1.0294 - val_acc: 0.6014\n",
      "Epoch 41/85\n",
      "331/331 [==============================] - 11s 32ms/step - loss: 0.6584 - acc: 0.7583 - val_loss: 0.9107 - val_acc: 0.6713\n",
      "Epoch 42/85\n",
      "331/331 [==============================] - 11s 33ms/step - loss: 0.6908 - acc: 0.7734 - val_loss: 1.2011 - val_acc: 0.4615\n",
      "Epoch 43/85\n",
      "331/331 [==============================] - 12s 35ms/step - loss: 0.6431 - acc: 0.7764 - val_loss: 1.0001 - val_acc: 0.6084\n",
      "Epoch 44/85\n",
      "331/331 [==============================] - 12s 35ms/step - loss: 0.6249 - acc: 0.7553 - val_loss: 1.1418 - val_acc: 0.5385\n",
      "Epoch 45/85\n",
      "331/331 [==============================] - 11s 33ms/step - loss: 0.6319 - acc: 0.7885 - val_loss: 1.0493 - val_acc: 0.5944\n",
      "Epoch 46/85\n",
      "331/331 [==============================] - 11s 33ms/step - loss: 0.6523 - acc: 0.7855 - val_loss: 1.0533 - val_acc: 0.5594\n",
      "Epoch 47/85\n",
      "331/331 [==============================] - 11s 33ms/step - loss: 0.6264 - acc: 0.7825 - val_loss: 0.9236 - val_acc: 0.6503\n",
      "Epoch 48/85\n",
      "331/331 [==============================] - 11s 33ms/step - loss: 0.6386 - acc: 0.7553 - val_loss: 1.0864 - val_acc: 0.5944\n",
      "Epoch 49/85\n",
      "331/331 [==============================] - 11s 33ms/step - loss: 0.5873 - acc: 0.7885 - val_loss: 1.2033 - val_acc: 0.5315\n",
      "Epoch 50/85\n",
      "331/331 [==============================] - 11s 33ms/step - loss: 0.5339 - acc: 0.8338 - val_loss: 1.3079 - val_acc: 0.4825\n",
      "Epoch 51/85\n",
      "331/331 [==============================] - 11s 33ms/step - loss: 0.5442 - acc: 0.8036 - val_loss: 0.9136 - val_acc: 0.6993\n",
      "Epoch 52/85\n",
      "331/331 [==============================] - 11s 33ms/step - loss: 0.5199 - acc: 0.8036 - val_loss: 1.1912 - val_acc: 0.4895\n",
      "Epoch 53/85\n",
      "331/331 [==============================] - 11s 34ms/step - loss: 0.4981 - acc: 0.8489 - val_loss: 0.9813 - val_acc: 0.6084\n",
      "Epoch 54/85\n",
      "331/331 [==============================] - 11s 33ms/step - loss: 0.4681 - acc: 0.8429 - val_loss: 0.8171 - val_acc: 0.7413\n",
      "Epoch 55/85\n",
      "331/331 [==============================] - 11s 34ms/step - loss: 0.4827 - acc: 0.8218 - val_loss: 0.7567 - val_acc: 0.7622\n",
      "Epoch 56/85\n",
      "331/331 [==============================] - 11s 34ms/step - loss: 0.5172 - acc: 0.8248 - val_loss: 0.8829 - val_acc: 0.6364\n",
      "Epoch 57/85\n",
      "331/331 [==============================] - 11s 34ms/step - loss: 0.4234 - acc: 0.8701 - val_loss: 0.8058 - val_acc: 0.7133\n",
      "Epoch 58/85\n",
      "331/331 [==============================] - 11s 34ms/step - loss: 0.4207 - acc: 0.8701 - val_loss: 0.9988 - val_acc: 0.5944\n",
      "Epoch 59/85\n",
      "331/331 [==============================] - 11s 33ms/step - loss: 0.4219 - acc: 0.8580 - val_loss: 0.9689 - val_acc: 0.6014\n",
      "Epoch 60/85\n",
      "331/331 [==============================] - 11s 33ms/step - loss: 0.5005 - acc: 0.8278 - val_loss: 0.7148 - val_acc: 0.7972\n",
      "Epoch 61/85\n",
      "331/331 [==============================] - 11s 33ms/step - loss: 0.4446 - acc: 0.8580 - val_loss: 0.6308 - val_acc: 0.8462\n",
      "Epoch 62/85\n",
      "331/331 [==============================] - 11s 34ms/step - loss: 0.4032 - acc: 0.8671 - val_loss: 0.5863 - val_acc: 0.8252\n",
      "Epoch 63/85\n",
      "331/331 [==============================] - 11s 34ms/step - loss: 0.3621 - acc: 0.8701 - val_loss: 0.7469 - val_acc: 0.7063\n",
      "Epoch 64/85\n",
      "331/331 [==============================] - 11s 34ms/step - loss: 0.4022 - acc: 0.8671 - val_loss: 1.0464 - val_acc: 0.6014\n",
      "Epoch 65/85\n",
      "331/331 [==============================] - 12s 35ms/step - loss: 0.3941 - acc: 0.8580 - val_loss: 0.6822 - val_acc: 0.7483\n",
      "Epoch 66/85\n",
      "331/331 [==============================] - 12s 36ms/step - loss: 0.3476 - acc: 0.8792 - val_loss: 0.6394 - val_acc: 0.7413\n",
      "Epoch 67/85\n",
      "331/331 [==============================] - 11s 34ms/step - loss: 0.3717 - acc: 0.8671 - val_loss: 0.6806 - val_acc: 0.7692\n",
      "Epoch 68/85\n",
      "331/331 [==============================] - 11s 33ms/step - loss: 0.3166 - acc: 0.9003 - val_loss: 0.7399 - val_acc: 0.6783\n",
      "Epoch 69/85\n",
      "331/331 [==============================] - 11s 34ms/step - loss: 0.3005 - acc: 0.9124 - val_loss: 0.6822 - val_acc: 0.6993\n",
      "Epoch 70/85\n",
      "331/331 [==============================] - 11s 33ms/step - loss: 0.3271 - acc: 0.8943 - val_loss: 0.4892 - val_acc: 0.8322\n",
      "Epoch 71/85\n",
      "331/331 [==============================] - 11s 33ms/step - loss: 0.3320 - acc: 0.8882 - val_loss: 0.6150 - val_acc: 0.7832\n",
      "Epoch 72/85\n",
      "331/331 [==============================] - 11s 33ms/step - loss: 0.2974 - acc: 0.9033 - val_loss: 0.5657 - val_acc: 0.7552\n",
      "Epoch 73/85\n",
      "331/331 [==============================] - 11s 34ms/step - loss: 0.3592 - acc: 0.8792 - val_loss: 0.5343 - val_acc: 0.8392\n",
      "Epoch 74/85\n",
      "331/331 [==============================] - 11s 33ms/step - loss: 0.2921 - acc: 0.8912 - val_loss: 0.4036 - val_acc: 0.8951\n",
      "Epoch 75/85\n",
      "331/331 [==============================] - 11s 34ms/step - loss: 0.2966 - acc: 0.8822 - val_loss: 0.5501 - val_acc: 0.7972\n",
      "Epoch 76/85\n",
      "331/331 [==============================] - 11s 33ms/step - loss: 0.2363 - acc: 0.9335 - val_loss: 0.6046 - val_acc: 0.7972\n",
      "Epoch 77/85\n",
      "331/331 [==============================] - 11s 33ms/step - loss: 0.3216 - acc: 0.8882 - val_loss: 0.4275 - val_acc: 0.8741\n",
      "Epoch 78/85\n",
      "331/331 [==============================] - 11s 33ms/step - loss: 0.2661 - acc: 0.9215 - val_loss: 0.8330 - val_acc: 0.6923\n",
      "Epoch 79/85\n",
      "331/331 [==============================] - 11s 34ms/step - loss: 0.2541 - acc: 0.9215 - val_loss: 0.4911 - val_acc: 0.8741\n",
      "Epoch 80/85\n",
      "331/331 [==============================] - 11s 34ms/step - loss: 0.2107 - acc: 0.9335 - val_loss: 0.3613 - val_acc: 0.9021\n",
      "Epoch 81/85\n",
      "331/331 [==============================] - 11s 34ms/step - loss: 0.2383 - acc: 0.9305 - val_loss: 0.3975 - val_acc: 0.8811\n",
      "Epoch 82/85\n",
      "331/331 [==============================] - 11s 34ms/step - loss: 0.2438 - acc: 0.9124 - val_loss: 0.6737 - val_acc: 0.7413\n",
      "Epoch 83/85\n",
      "331/331 [==============================] - 11s 34ms/step - loss: 0.2513 - acc: 0.9003 - val_loss: 0.9504 - val_acc: 0.6084\n",
      "Epoch 84/85\n",
      "331/331 [==============================] - 11s 34ms/step - loss: 0.1880 - acc: 0.9577 - val_loss: 0.4730 - val_acc: 0.7972\n",
      "Epoch 85/85\n",
      "331/331 [==============================] - 11s 34ms/step - loss: 0.1782 - acc: 0.9547 - val_loss: 0.3662 - val_acc: 0.9161\n"
     ]
    }
   ],
   "source": [
    "H = model.fit(trainX, trainY, validation_data=(testX, testY),  epochs=EPOCHS,   batch_size=BS)"
   ]
  },
  {
   "cell_type": "code",
   "execution_count": 19,
   "metadata": {},
   "outputs": [
    {
     "name": "stdout",
     "output_type": "stream",
     "text": [
      "[INFO] evaluating network...\n",
      "                       precision    recall  f1-score   support\n",
      "\n",
      "           Dalai Lama       1.00      1.00      1.00        17\n",
      "       Mahatma Gandhi       0.84      1.00      0.91        16\n",
      "Martin Luther King Jr       1.00      0.85      0.92        20\n",
      "        Mother Teresa       1.00      0.90      0.95        21\n",
      "       Nelson Mandela       0.80      1.00      0.89        16\n",
      "    Swami Vivekananda       1.00      1.00      1.00        17\n",
      "    Winston Churchill       1.00      0.67      0.80        18\n",
      "       Woodrow Wilson       0.77      0.94      0.85        18\n",
      "\n",
      "             accuracy                           0.92       143\n",
      "            macro avg       0.93      0.92      0.92       143\n",
      "         weighted avg       0.93      0.92      0.92       143\n",
      "\n"
     ]
    },
    {
     "data": {
      "image/png": "[encoded data removed]",
      "text/plain": [
       "<Figure size 432x288 with 1 Axes>"
      ]
     },
     "metadata": {},
     "output_type": "display_data"
    }
   ],
   "source": [
    "print(\"[INFO] evaluating network...\")\n",
    "predictions = model.predict(testX, batch_size=BS)\n",
    "print(classification_report(testY.argmax(axis=1),\n",
    "\tpredictions.argmax(axis=1), target_names=lb.classes_))\n",
    "N = np.arange(0, EPOCHS)\n",
    "plt.style.use(\"ggplot\")\n",
    "plt.figure()\n",
    "plt.plot(N, H.history[\"loss\"], label=\"train_loss\")\n",
    "plt.plot(N, H.history[\"val_loss\"], label=\"val_loss\")\n",
    "plt.plot(N, H.history[\"acc\"], label=\"train_acc\")\n",
    "plt.plot(N, H.history[\"val_acc\"], label=\"val_acc\")\n",
    "plt.title(\"Training Loss and Accuracy (Mini VGG)\")\n",
    "plt.xlabel(\"Epoch #\")\n",
    "plt.ylabel(\"Loss/Accuracy\")\n",
    "plt.legend()\n",
    "plt.show()"
   ]
  },
  {
   "cell_type": "code",
   "execution_count": null,
   "metadata": {},
   "outputs": [],
   "source": []
  },
  {
   "cell_type": "code",
   "execution_count": null,
   "metadata": {},
   "outputs": [],
   "source": []
  }
 ],
 "metadata": {
  "kernelspec": {
   "display_name": "Python 3",
   "language": "python",
   "name": "python3"
  },
  "language_info": {
   "codemirror_mode": {
    "name": "ipython",
    "version": 3
   },
   "file_extension": ".py",
   "mimetype": "text/x-python",
   "name": "python",
   "nbconvert_exporter": "python",
   "pygments_lexer": "ipython3",
   "version": "3.6.7"
  }
 },
 "nbformat": 4,
 "nbformat_minor": 2
}
