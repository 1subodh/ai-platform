{
 "cells": [
  {
   "cell_type": "markdown",
   "metadata": {},
   "source": [
    "### Code to scrape images from google"
   ]
  },
  {
   "cell_type": "markdown",
   "metadata": {},
   "source": [
    "\n",
    "from google_images_download import google_images_download   #importing the library\n",
    "response = google_images_download.googleimagesdownload()    #class instantiation\n",
    "arguments = {\"keywords\":\"Dalai Lama,Martin Luther King Jr,Mahatma Gandhi,Nelson Mandela,Swami Vivekananda,Woodrow Wilson,Winston Churchill,Mother Teresa,\"\n",
    "                 ,\"limit\":20,\"print_urls\":True}                 #creating list of arguments\n",
    "paths = response.download(arguments)                        #passing the arguments to the function\n",
    "print(paths)                                                #printing absolute paths of the downloaded images\n"
   ]
  },
  {
   "cell_type": "markdown",
   "metadata": {},
   "source": [
    "### Multiclass Classification"
   ]
  },
  {
   "cell_type": "code",
   "execution_count": 1,
   "metadata": {},
   "outputs": [
    {
     "name": "stderr",
     "output_type": "stream",
     "text": [
      "Using TensorFlow backend.\n"
     ]
    }
   ],
   "source": [
    "from keras import backend as K\n",
    "from keras.models import Sequential\n",
    "from keras.layers.normalization import BatchNormalization\n",
    "from keras.layers.convolutional import Convolution2D, MaxPooling2D, ZeroPadding2D\n",
    "from keras.layers.core import Activation, Flatten, Dropout, Dense\n",
    "from keras.constraints import maxnorm\n",
    "from keras.preprocessing.image import ImageDataGenerator\n",
    "from keras.optimizers import SGD\n",
    "from sklearn.preprocessing import LabelBinarizer\n",
    "from sklearn.model_selection import train_test_split\n",
    "from sklearn.metrics import classification_report\n",
    "from imutils import paths\n",
    "import matplotlib.pyplot as plt\n",
    "import numpy as np\n",
    "import argparse, random, pickle, cv2, os, matplotlib\n",
    "import mlflow\n",
    "import mlflow.keras"
   ]
  },
  {
   "cell_type": "code",
   "execution_count": 2,
   "metadata": {},
   "outputs": [
    {
     "name": "stderr",
     "output_type": "stream",
     "text": [
      "/Users/home/anaconda3/lib/python3.6/site-packages/keras/preprocessing/image.py:440: DeprecationWarning: inspect.getargspec() is deprecated, use inspect.signature() or inspect.getfullargspec()\n",
      "  image.ImageDataGenerator.__init__).args:\n"
     ]
    }
   ],
   "source": [
    "datagen = ImageDataGenerator()\n",
    "data    = []\n",
    "labels  = []"
   ]
  },
  {
   "cell_type": "markdown",
   "metadata": {},
   "source": [
    "### Change your path to downloaded directory where images are scraped"
   ]
  },
  {
   "cell_type": "code",
   "execution_count": 3,
   "metadata": {},
   "outputs": [],
   "source": [
    "imagePaths = sorted(list(paths.list_images('/Users/home/Desktop/Notes/Deep Learning/downloads')))\n",
    "random.seed(42)\n",
    "random.shuffle(imagePaths)"
   ]
  },
  {
   "cell_type": "code",
   "execution_count": 4,
   "metadata": {},
   "outputs": [],
   "source": [
    "for imagePath in imagePaths:\n",
    "\timage = cv2.imread(imagePath)\n",
    "\timage = cv2.resize(image, (64, 64))\n",
    "\tdata.append(image)    \n",
    "\tdatagen.apply_transform(image,{'theta':35,'shear':35,'zx':0.4,'zy':0.4})\n",
    "\tdatagen.apply_transform(image,{'zoom_rage':0.4,'rotation_range' : 50})\n",
    "\tdata.append(image)\n",
    "\tdatagen.apply_transform(image,{'theta':10,'shear':10,'zx':0.2,'zy':0.2})\n",
    "\tdatagen.apply_transform(image,{'flip_horizontal':True})\n",
    "\tdatagen.apply_transform(image,{'zoom_rage':0.2})\n",
    "\tdata.append(image)\n",
    "\tlabel = imagePath.split(os.path.sep)[-2]\n",
    "\tlabels.append(label)\n",
    "\tlabels.append(label)\n",
    "\tlabels.append(label)"
   ]
  },
  {
   "cell_type": "code",
   "execution_count": 5,
   "metadata": {},
   "outputs": [
    {
     "data": {
      "text/plain": [
       "(474, 474)"
      ]
     },
     "execution_count": 5,
     "metadata": {},
     "output_type": "execute_result"
    }
   ],
   "source": [
    "len(data),len(labels)"
   ]
  },
  {
   "cell_type": "code",
   "execution_count": 6,
   "metadata": {},
   "outputs": [],
   "source": [
    "data = np.array(data, dtype=\"float\") / 255.0\n",
    "labels = np.array(labels)"
   ]
  },
  {
   "cell_type": "code",
   "execution_count": 7,
   "metadata": {},
   "outputs": [],
   "source": [
    "(trainX, testX, trainY, testY) = train_test_split(data,labels, test_size=0.30, random_state=42)"
   ]
  },
  {
   "cell_type": "code",
   "execution_count": 8,
   "metadata": {},
   "outputs": [],
   "source": [
    "lb = LabelBinarizer()\n",
    "trainY = lb.fit_transform(trainY)\n",
    "testY = lb.transform(testY)"
   ]
  },
  {
   "cell_type": "markdown",
   "metadata": {},
   "source": [
    "### Sliced VGG Architecture"
   ]
  },
  {
   "cell_type": "code",
   "execution_count": 9,
   "metadata": {},
   "outputs": [
    {
     "name": "stdout",
     "output_type": "stream",
     "text": [
      "WARNING:tensorflow:From /Users/home/anaconda3/lib/python3.6/site-packages/tensorflow/python/framework/op_def_library.py:263: colocate_with (from tensorflow.python.framework.ops) is deprecated and will be removed in a future version.\n",
      "Instructions for updating:\n",
      "Colocations handled automatically by placer.\n",
      "WARNING:tensorflow:From /Users/home/anaconda3/lib/python3.6/site-packages/keras/backend/tensorflow_backend.py:3445: calling dropout (from tensorflow.python.ops.nn_ops) with keep_prob is deprecated and will be removed in a future version.\n",
      "Instructions for updating:\n",
      "Please use `rate` instead of `keep_prob`. Rate should be set to `rate = 1 - keep_prob`.\n"
     ]
    },
    {
     "name": "stderr",
     "output_type": "stream",
     "text": [
      "/Users/home/anaconda3/lib/python3.6/site-packages/numpy/lib/type_check.py:546: DeprecationWarning: np.asscalar(a) is deprecated since NumPy v1.16, use a.item() instead\n",
      "  'a.item() instead', DeprecationWarning, stacklevel=1)\n"
     ]
    },
    {
     "name": "stdout",
     "output_type": "stream",
     "text": [
      "_________________________________________________________________\n",
      "Layer (type)                 Output Shape              Param #   \n",
      "=================================================================\n",
      "zero_padding2d_1 (ZeroPaddin (None, 72, 72, 3)         0         \n",
      "_________________________________________________________________\n",
      "conv2d_1 (Conv2D)            (None, 72, 72, 64)        1792      \n",
      "_________________________________________________________________\n",
      "batch_normalization_1 (Batch (None, 72, 72, 64)        256       \n",
      "_________________________________________________________________\n",
      "max_pooling2d_1 (MaxPooling2 (None, 36, 36, 64)        0         \n",
      "_________________________________________________________________\n",
      "conv2d_2 (Conv2D)            (None, 36, 36, 128)       73856     \n",
      "_________________________________________________________________\n",
      "max_pooling2d_2 (MaxPooling2 (None, 18, 18, 128)       0         \n",
      "_________________________________________________________________\n",
      "dropout_1 (Dropout)          (None, 18, 18, 128)       0         \n",
      "_________________________________________________________________\n",
      "conv2d_3 (Conv2D)            (None, 18, 18, 128)       147584    \n",
      "_________________________________________________________________\n",
      "batch_normalization_2 (Batch (None, 18, 18, 128)       512       \n",
      "_________________________________________________________________\n",
      "max_pooling2d_3 (MaxPooling2 (None, 9, 9, 128)         0         \n",
      "_________________________________________________________________\n",
      "conv2d_4 (Conv2D)            (None, 9, 9, 256)         295168    \n",
      "_________________________________________________________________\n",
      "max_pooling2d_4 (MaxPooling2 (None, 4, 4, 256)         0         \n",
      "_________________________________________________________________\n",
      "dropout_2 (Dropout)          (None, 4, 4, 256)         0         \n",
      "_________________________________________________________________\n",
      "conv2d_5 (Conv2D)            (None, 4, 4, 256)         590080    \n",
      "_________________________________________________________________\n",
      "batch_normalization_3 (Batch (None, 4, 4, 256)         1024      \n",
      "_________________________________________________________________\n",
      "max_pooling2d_5 (MaxPooling2 (None, 2, 2, 256)         0         \n",
      "_________________________________________________________________\n",
      "conv2d_6 (Conv2D)            (None, 2, 2, 512)         1180160   \n",
      "_________________________________________________________________\n",
      "max_pooling2d_6 (MaxPooling2 (None, 1, 1, 512)         0         \n",
      "_________________________________________________________________\n",
      "dropout_3 (Dropout)          (None, 1, 1, 512)         0         \n",
      "_________________________________________________________________\n",
      "flatten_1 (Flatten)          (None, 512)               0         \n",
      "_________________________________________________________________\n",
      "dense_1 (Dense)              (None, 1024)              525312    \n",
      "_________________________________________________________________\n",
      "dropout_4 (Dropout)          (None, 1024)              0         \n",
      "_________________________________________________________________\n",
      "dense_2 (Dense)              (None, 128)               131200    \n",
      "_________________________________________________________________\n",
      "dropout_5 (Dropout)          (None, 128)               0         \n",
      "_________________________________________________________________\n",
      "dense_3 (Dense)              (None, 8)                 1032      \n",
      "=================================================================\n",
      "Total params: 2,947,976\n",
      "Trainable params: 2,947,080\n",
      "Non-trainable params: 896\n",
      "_________________________________________________________________\n"
     ]
    }
   ],
   "source": [
    "model = Sequential()\n",
    "model.add(ZeroPadding2D((4,4),input_shape=(64,64,3)))\n",
    "\n",
    "model.add(Convolution2D(64,(3, 3), activation='relu', padding='same'))\n",
    "model.add(BatchNormalization())\n",
    "model.add(MaxPooling2D((2,2), strides=(2,2)))\n",
    "model.add(Convolution2D(128,(3, 3), activation='relu', padding='same'))\n",
    "model.add(MaxPooling2D((2,2), strides=(2,2)))\n",
    "model.add(Dropout(0.4))\n",
    "\n",
    "model.add(Convolution2D(128,(3, 3), activation='relu', padding='same'))\n",
    "model.add(BatchNormalization())\n",
    "model.add(MaxPooling2D((2,2), strides=(2,2)))\n",
    "model.add(Convolution2D(256,(3, 3), activation='relu', padding='same'))\n",
    "model.add(MaxPooling2D((2,2), strides=(2,2)))\n",
    "model.add(Dropout(0.4))\n",
    "\n",
    "model.add(Convolution2D(256,(3, 3), activation='relu', padding='same'))\n",
    "model.add(BatchNormalization())\n",
    "model.add(MaxPooling2D((2,2), strides=(2,2)))\n",
    "model.add(Convolution2D(512,(3, 3), activation='relu', padding='same'))\n",
    "model.add(MaxPooling2D((2,2), strides=(2,2)))\n",
    "model.add(Dropout(0.2))\n",
    "\n",
    "model.add(Flatten())\n",
    "model.add(Dense(1024, input_shape=(4096,), activation=\"relu\", kernel_constraint=maxnorm(3)))\n",
    "model.add(Dropout(0.2))\n",
    "model.add(Dense(128, activation='relu', kernel_constraint=maxnorm(3)))\n",
    "model.add(Dropout(0.2))\n",
    "model.add(Dense(len(lb.classes_), activation=\"softmax\", kernel_constraint=maxnorm(3)))\n",
    "model.summary()\n"
   ]
  },
  {
   "cell_type": "code",
   "execution_count": 10,
   "metadata": {},
   "outputs": [
    {
     "name": "stdout",
     "output_type": "stream",
     "text": [
      "[INFO] training network.....\n"
     ]
    }
   ],
   "source": [
    "BS = 32\n",
    "EPOCHS = 90\n",
    "print(\"[INFO] training network.....\")\n",
    "sgd = SGD(lr=0.007, decay=1e-6, nesterov=True)\n",
    "model.compile(loss=\"categorical_crossentropy\", optimizer=sgd,metrics=[\"accuracy\"])"
   ]
  },
  {
   "cell_type": "code",
   "execution_count": 11,
   "metadata": {},
   "outputs": [
    {
     "name": "stdout",
     "output_type": "stream",
     "text": [
      "WARNING:tensorflow:From /Users/home/anaconda3/lib/python3.6/site-packages/tensorflow/python/ops/math_ops.py:3066: to_int32 (from tensorflow.python.ops.math_ops) is deprecated and will be removed in a future version.\n",
      "Instructions for updating:\n",
      "Use tf.cast instead.\n",
      "Train on 331 samples, validate on 143 samples\n",
      "Epoch 1/90\n",
      "331/331 [==============================] - 12s 35ms/step - loss: 2.3309 - acc: 0.1329 - val_loss: 2.0388 - val_acc: 0.2308\n",
      "Epoch 2/90\n",
      "331/331 [==============================] - 11s 33ms/step - loss: 2.1446 - acc: 0.1480 - val_loss: 2.0353 - val_acc: 0.2308\n",
      "Epoch 3/90\n",
      "331/331 [==============================] - 11s 34ms/step - loss: 2.0076 - acc: 0.2115 - val_loss: 1.9918 - val_acc: 0.3007\n",
      "Epoch 4/90\n",
      "331/331 [==============================] - 11s 33ms/step - loss: 1.8895 - acc: 0.2810 - val_loss: 1.9487 - val_acc: 0.3427\n",
      "Epoch 5/90\n",
      "331/331 [==============================] - 11s 33ms/step - loss: 1.8558 - acc: 0.2810 - val_loss: 1.8602 - val_acc: 0.4126\n",
      "Epoch 6/90\n",
      "331/331 [==============================] - 11s 33ms/step - loss: 1.7298 - acc: 0.3051 - val_loss: 1.8205 - val_acc: 0.3566\n",
      "Epoch 7/90\n",
      "331/331 [==============================] - 11s 33ms/step - loss: 1.6484 - acc: 0.3837 - val_loss: 1.7840 - val_acc: 0.3217\n",
      "Epoch 8/90\n",
      "331/331 [==============================] - 11s 34ms/step - loss: 1.6349 - acc: 0.3565 - val_loss: 1.7109 - val_acc: 0.4266\n",
      "Epoch 9/90\n",
      "331/331 [==============================] - 11s 33ms/step - loss: 1.5615 - acc: 0.3927 - val_loss: 1.6719 - val_acc: 0.4266\n",
      "Epoch 10/90\n",
      "331/331 [==============================] - 11s 33ms/step - loss: 1.4951 - acc: 0.4350 - val_loss: 1.6018 - val_acc: 0.4476\n",
      "Epoch 11/90\n",
      "331/331 [==============================] - 11s 33ms/step - loss: 1.4353 - acc: 0.4683 - val_loss: 1.6182 - val_acc: 0.3986\n",
      "Epoch 12/90\n",
      "331/331 [==============================] - 11s 33ms/step - loss: 1.4227 - acc: 0.4109 - val_loss: 1.5906 - val_acc: 0.3497\n",
      "Epoch 13/90\n",
      "331/331 [==============================] - 11s 34ms/step - loss: 1.3290 - acc: 0.5015 - val_loss: 1.5608 - val_acc: 0.3776\n",
      "Epoch 14/90\n",
      "331/331 [==============================] - 522s 2s/step - loss: 1.2875 - acc: 0.5347 - val_loss: 1.5364 - val_acc: 0.3497\n",
      "Epoch 15/90\n",
      "331/331 [==============================] - 13s 38ms/step - loss: 1.2910 - acc: 0.4804 - val_loss: 1.6269 - val_acc: 0.3217\n",
      "Epoch 16/90\n",
      "331/331 [==============================] - 11s 34ms/step - loss: 1.2146 - acc: 0.5710 - val_loss: 1.6057 - val_acc: 0.2727\n",
      "Epoch 17/90\n",
      "331/331 [==============================] - 11s 34ms/step - loss: 1.1309 - acc: 0.6012 - val_loss: 1.6713 - val_acc: 0.2867\n",
      "Epoch 18/90\n",
      "331/331 [==============================] - 11s 34ms/step - loss: 1.1004 - acc: 0.6224 - val_loss: 1.5336 - val_acc: 0.3776\n",
      "Epoch 19/90\n",
      "331/331 [==============================] - 11s 33ms/step - loss: 1.1117 - acc: 0.5861 - val_loss: 1.4409 - val_acc: 0.4126\n",
      "Epoch 20/90\n",
      "331/331 [==============================] - 11s 33ms/step - loss: 0.9609 - acc: 0.6465 - val_loss: 1.3494 - val_acc: 0.4895\n",
      "Epoch 21/90\n",
      "331/331 [==============================] - 11s 35ms/step - loss: 0.9946 - acc: 0.6405 - val_loss: 1.3360 - val_acc: 0.5524\n",
      "Epoch 22/90\n",
      "331/331 [==============================] - 11s 34ms/step - loss: 1.0720 - acc: 0.6073 - val_loss: 1.4741 - val_acc: 0.4056\n",
      "Epoch 23/90\n",
      "331/331 [==============================] - 11s 34ms/step - loss: 0.8954 - acc: 0.6798 - val_loss: 1.5541 - val_acc: 0.3776\n",
      "Epoch 24/90\n",
      "331/331 [==============================] - 11s 33ms/step - loss: 0.9011 - acc: 0.7069 - val_loss: 1.4756 - val_acc: 0.3706\n",
      "Epoch 25/90\n",
      "331/331 [==============================] - 11s 34ms/step - loss: 0.8512 - acc: 0.7100 - val_loss: 1.5275 - val_acc: 0.3566\n",
      "Epoch 26/90\n",
      "331/331 [==============================] - 11s 34ms/step - loss: 0.8180 - acc: 0.7130 - val_loss: 1.3129 - val_acc: 0.4755\n",
      "Epoch 27/90\n",
      "331/331 [==============================] - 11s 34ms/step - loss: 0.8394 - acc: 0.7221 - val_loss: 1.2027 - val_acc: 0.5524\n",
      "Epoch 28/90\n",
      "331/331 [==============================] - 11s 33ms/step - loss: 0.8201 - acc: 0.7100 - val_loss: 1.3928 - val_acc: 0.4476\n",
      "Epoch 29/90\n",
      "331/331 [==============================] - 11s 35ms/step - loss: 0.7932 - acc: 0.7100 - val_loss: 1.3917 - val_acc: 0.4266\n",
      "Epoch 30/90\n",
      "331/331 [==============================] - 11s 34ms/step - loss: 0.7840 - acc: 0.7130 - val_loss: 1.2890 - val_acc: 0.4825\n",
      "Epoch 31/90\n",
      "331/331 [==============================] - 11s 34ms/step - loss: 0.7713 - acc: 0.7553 - val_loss: 1.1524 - val_acc: 0.5315\n",
      "Epoch 32/90\n",
      "331/331 [==============================] - 12s 35ms/step - loss: 0.7508 - acc: 0.7523 - val_loss: 1.2554 - val_acc: 0.5315\n",
      "Epoch 33/90\n",
      "331/331 [==============================] - 11s 34ms/step - loss: 0.6454 - acc: 0.7825 - val_loss: 1.0094 - val_acc: 0.6503\n",
      "Epoch 34/90\n",
      "331/331 [==============================] - 11s 33ms/step - loss: 0.6917 - acc: 0.7704 - val_loss: 1.0547 - val_acc: 0.5804\n",
      "Epoch 35/90\n",
      "331/331 [==============================] - 11s 33ms/step - loss: 0.7020 - acc: 0.7553 - val_loss: 1.3495 - val_acc: 0.4685\n",
      "Epoch 36/90\n",
      "331/331 [==============================] - 11s 33ms/step - loss: 0.6263 - acc: 0.7825 - val_loss: 1.3857 - val_acc: 0.4476\n",
      "Epoch 37/90\n",
      "331/331 [==============================] - 11s 34ms/step - loss: 0.6095 - acc: 0.7946 - val_loss: 1.1021 - val_acc: 0.5594\n",
      "Epoch 38/90\n",
      "331/331 [==============================] - 12s 35ms/step - loss: 0.6126 - acc: 0.8218 - val_loss: 1.1892 - val_acc: 0.4685\n",
      "Epoch 39/90\n",
      "331/331 [==============================] - 11s 34ms/step - loss: 0.5533 - acc: 0.8127 - val_loss: 1.2604 - val_acc: 0.5315\n",
      "Epoch 40/90\n",
      "331/331 [==============================] - 11s 33ms/step - loss: 0.5115 - acc: 0.8278 - val_loss: 1.3959 - val_acc: 0.4266\n",
      "Epoch 41/90\n",
      "331/331 [==============================] - 11s 33ms/step - loss: 0.5589 - acc: 0.7825 - val_loss: 1.2123 - val_acc: 0.5664\n",
      "Epoch 42/90\n",
      "331/331 [==============================] - 11s 33ms/step - loss: 0.5264 - acc: 0.8338 - val_loss: 1.6287 - val_acc: 0.3077\n",
      "Epoch 43/90\n",
      "331/331 [==============================] - 11s 34ms/step - loss: 0.5401 - acc: 0.8006 - val_loss: 0.9700 - val_acc: 0.6294\n",
      "Epoch 44/90\n",
      "331/331 [==============================] - 11s 33ms/step - loss: 0.4764 - acc: 0.8489 - val_loss: 0.9578 - val_acc: 0.6224\n",
      "Epoch 45/90\n",
      "331/331 [==============================] - 11s 33ms/step - loss: 0.4260 - acc: 0.8792 - val_loss: 1.0493 - val_acc: 0.6294\n",
      "Epoch 46/90\n",
      "331/331 [==============================] - 11s 33ms/step - loss: 0.4914 - acc: 0.8399 - val_loss: 1.2391 - val_acc: 0.5524\n",
      "Epoch 47/90\n",
      "331/331 [==============================] - 11s 33ms/step - loss: 0.4819 - acc: 0.8640 - val_loss: 1.2289 - val_acc: 0.5455\n",
      "Epoch 48/90\n",
      "331/331 [==============================] - 11s 33ms/step - loss: 0.4266 - acc: 0.8610 - val_loss: 0.7897 - val_acc: 0.7273\n",
      "Epoch 49/90\n",
      "331/331 [==============================] - 11s 33ms/step - loss: 0.3735 - acc: 0.8973 - val_loss: 0.9761 - val_acc: 0.6503\n",
      "Epoch 50/90\n",
      "331/331 [==============================] - 11s 33ms/step - loss: 0.4363 - acc: 0.8369 - val_loss: 0.9483 - val_acc: 0.6224\n",
      "Epoch 51/90\n",
      "331/331 [==============================] - 11s 33ms/step - loss: 0.3442 - acc: 0.9033 - val_loss: 0.8188 - val_acc: 0.6713\n",
      "Epoch 52/90\n",
      "331/331 [==============================] - 11s 33ms/step - loss: 0.4058 - acc: 0.8610 - val_loss: 0.6776 - val_acc: 0.7692\n",
      "Epoch 53/90\n",
      "331/331 [==============================] - 11s 33ms/step - loss: 0.4015 - acc: 0.8429 - val_loss: 0.9890 - val_acc: 0.6364\n",
      "Epoch 54/90\n",
      "331/331 [==============================] - 11s 33ms/step - loss: 0.3638 - acc: 0.8852 - val_loss: 1.0639 - val_acc: 0.6154\n",
      "Epoch 55/90\n",
      "331/331 [==============================] - 11s 33ms/step - loss: 0.4124 - acc: 0.8520 - val_loss: 2.4594 - val_acc: 0.3497\n",
      "Epoch 56/90\n",
      "331/331 [==============================] - 11s 33ms/step - loss: 0.3824 - acc: 0.9003 - val_loss: 1.0906 - val_acc: 0.5664\n",
      "Epoch 57/90\n",
      "331/331 [==============================] - 11s 33ms/step - loss: 0.2996 - acc: 0.9124 - val_loss: 0.9516 - val_acc: 0.5944\n",
      "Epoch 58/90\n",
      "331/331 [==============================] - 11s 33ms/step - loss: 0.2871 - acc: 0.9154 - val_loss: 0.7256 - val_acc: 0.7762\n",
      "Epoch 59/90\n",
      "331/331 [==============================] - 11s 33ms/step - loss: 0.3071 - acc: 0.9094 - val_loss: 0.6252 - val_acc: 0.7552\n",
      "Epoch 60/90\n",
      "331/331 [==============================] - 11s 33ms/step - loss: 0.3444 - acc: 0.8852 - val_loss: 0.9126 - val_acc: 0.6294\n",
      "Epoch 61/90\n",
      "331/331 [==============================] - 11s 33ms/step - loss: 0.3221 - acc: 0.8973 - val_loss: 1.1455 - val_acc: 0.5385\n",
      "Epoch 62/90\n",
      "331/331 [==============================] - 11s 33ms/step - loss: 0.3360 - acc: 0.8792 - val_loss: 0.5638 - val_acc: 0.7622\n",
      "Epoch 63/90\n",
      "331/331 [==============================] - 11s 33ms/step - loss: 0.2356 - acc: 0.9094 - val_loss: 0.5088 - val_acc: 0.8042\n",
      "Epoch 64/90\n",
      "331/331 [==============================] - 11s 33ms/step - loss: 0.2771 - acc: 0.9154 - val_loss: 0.8622 - val_acc: 0.6434\n",
      "Epoch 65/90\n",
      "331/331 [==============================] - 11s 33ms/step - loss: 0.1822 - acc: 0.9426 - val_loss: 1.3468 - val_acc: 0.5245\n",
      "Epoch 66/90\n",
      "331/331 [==============================] - 11s 33ms/step - loss: 0.2792 - acc: 0.9154 - val_loss: 0.7695 - val_acc: 0.6573\n",
      "Epoch 67/90\n",
      "331/331 [==============================] - 11s 33ms/step - loss: 0.2588 - acc: 0.9184 - val_loss: 0.8718 - val_acc: 0.6573\n",
      "Epoch 68/90\n",
      "331/331 [==============================] - 11s 33ms/step - loss: 0.2635 - acc: 0.9184 - val_loss: 0.8690 - val_acc: 0.6364\n",
      "Epoch 69/90\n",
      "331/331 [==============================] - 11s 33ms/step - loss: 0.2035 - acc: 0.9366 - val_loss: 0.5207 - val_acc: 0.8112\n",
      "Epoch 70/90\n",
      "331/331 [==============================] - 11s 33ms/step - loss: 0.2293 - acc: 0.9305 - val_loss: 0.8165 - val_acc: 0.6783\n",
      "Epoch 71/90\n",
      "331/331 [==============================] - 11s 33ms/step - loss: 0.2168 - acc: 0.9366 - val_loss: 0.5751 - val_acc: 0.7762\n",
      "Epoch 72/90\n",
      "331/331 [==============================] - 11s 33ms/step - loss: 0.2113 - acc: 0.9486 - val_loss: 0.5516 - val_acc: 0.7483\n",
      "Epoch 73/90\n",
      "331/331 [==============================] - 11s 33ms/step - loss: 0.1731 - acc: 0.9547 - val_loss: 0.7012 - val_acc: 0.7203\n",
      "Epoch 74/90\n",
      "331/331 [==============================] - 11s 34ms/step - loss: 0.1726 - acc: 0.9396 - val_loss: 0.5576 - val_acc: 0.7692\n",
      "Epoch 75/90\n",
      "331/331 [==============================] - 11s 34ms/step - loss: 0.1769 - acc: 0.9456 - val_loss: 0.6934 - val_acc: 0.6993\n",
      "Epoch 76/90\n",
      "331/331 [==============================] - 11s 33ms/step - loss: 0.1634 - acc: 0.9517 - val_loss: 1.0153 - val_acc: 0.6224\n",
      "Epoch 77/90\n",
      "331/331 [==============================] - 11s 33ms/step - loss: 0.1508 - acc: 0.9637 - val_loss: 0.5180 - val_acc: 0.7902\n",
      "Epoch 78/90\n",
      "331/331 [==============================] - 11s 33ms/step - loss: 0.1438 - acc: 0.9547 - val_loss: 0.3092 - val_acc: 0.9301\n",
      "Epoch 79/90\n",
      "331/331 [==============================] - 11s 33ms/step - loss: 0.1873 - acc: 0.9396 - val_loss: 0.4586 - val_acc: 0.8392\n",
      "Epoch 80/90\n",
      "331/331 [==============================] - 11s 33ms/step - loss: 0.1356 - acc: 0.9668 - val_loss: 0.6039 - val_acc: 0.7832\n",
      "Epoch 81/90\n",
      "331/331 [==============================] - 11s 34ms/step - loss: 0.1298 - acc: 0.9637 - val_loss: 0.3478 - val_acc: 0.8881\n",
      "Epoch 82/90\n",
      "331/331 [==============================] - 11s 34ms/step - loss: 0.1345 - acc: 0.9547 - val_loss: 0.6811 - val_acc: 0.7483\n",
      "Epoch 83/90\n",
      "331/331 [==============================] - 11s 34ms/step - loss: 0.1769 - acc: 0.9366 - val_loss: 0.6002 - val_acc: 0.7972\n",
      "Epoch 84/90\n",
      "331/331 [==============================] - 11s 34ms/step - loss: 0.1461 - acc: 0.9637 - val_loss: 0.7054 - val_acc: 0.7552\n",
      "Epoch 85/90\n",
      "331/331 [==============================] - 11s 33ms/step - loss: 0.1714 - acc: 0.9517 - val_loss: 0.3103 - val_acc: 0.9021\n",
      "Epoch 86/90\n",
      "331/331 [==============================] - 11s 33ms/step - loss: 0.1186 - acc: 0.9758 - val_loss: 0.5227 - val_acc: 0.8042\n",
      "Epoch 87/90\n",
      "331/331 [==============================] - 11s 33ms/step - loss: 0.1540 - acc: 0.9517 - val_loss: 0.3383 - val_acc: 0.8811\n",
      "Epoch 88/90\n",
      "331/331 [==============================] - 11s 34ms/step - loss: 0.1538 - acc: 0.9517 - val_loss: 0.2196 - val_acc: 0.9231\n",
      "Epoch 89/90\n",
      "331/331 [==============================] - 11s 33ms/step - loss: 0.1077 - acc: 0.9668 - val_loss: 0.2774 - val_acc: 0.8951\n",
      "Epoch 90/90\n",
      "331/331 [==============================] - 11s 33ms/step - loss: 0.1042 - acc: 0.9607 - val_loss: 0.4574 - val_acc: 0.8182\n"
     ]
    }
   ],
   "source": [
    "H = model.fit(trainX, trainY, validation_data=(testX, testY),  epochs=EPOCHS,   batch_size=BS)\n"
   ]
  },
  {
   "cell_type": "code",
   "execution_count": 12,
   "metadata": {},
   "outputs": [],
   "source": [
    "with mlflow.start_run():\n",
    "    for n in range(0,len(H.history[\"loss\"])):        \n",
    "        mlflow.log_metric(\"training_loss\", H.history[\"loss\"][n])\n",
    "        mlflow.log_metric(\"training_acc\", H.history[\"acc\"][n])\n",
    "        mlflow.log_metric(\"validation_loss\", H.history[\"val_loss\"][n])\n",
    "        mlflow.log_metric(\"validation_acc\", H.history[\"val_acc\"][n])\n",
    "        # log artifacts\n",
    "        mlflow.log_artifacts('/Users/home/Desktop/Notes/Deep Learning/downloads', \"images\")\n",
    "   # log model\n",
    "mlflow.keras.log_model(model, \"models\")"
   ]
  },
  {
   "cell_type": "code",
   "execution_count": 13,
   "metadata": {},
   "outputs": [
    {
     "name": "stdout",
     "output_type": "stream",
     "text": [
      "[INFO] evaluating network...\n",
      "                       precision    recall  f1-score   support\n",
      "\n",
      "           Dalai Lama       0.74      1.00      0.85        17\n",
      "       Mahatma Gandhi       0.69      0.69      0.69        16\n",
      "Martin Luther King Jr       0.95      1.00      0.98        20\n",
      "        Mother Teresa       1.00      0.57      0.73        21\n",
      "       Nelson Mandela       0.55      1.00      0.71        16\n",
      "    Swami Vivekananda       1.00      0.41      0.58        17\n",
      "    Winston Churchill       1.00      0.89      0.94        18\n",
      "       Woodrow Wilson       0.95      1.00      0.97        18\n",
      "\n",
      "             accuracy                           0.82       143\n",
      "            macro avg       0.86      0.82      0.81       143\n",
      "         weighted avg       0.87      0.82      0.81       143\n",
      "\n"
     ]
    },
    {
     "data": {
      "image/png": "[encoded data removed]",
      "text/plain": [
       "<Figure size 432x288 with 1 Axes>"
      ]
     },
     "metadata": {},
     "output_type": "display_data"
    }
   ],
   "source": [
    "print(\"[INFO] evaluating network...\")\n",
    "predictions = model.predict(testX, batch_size=BS)\n",
    "print(classification_report(testY.argmax(axis=1),predictions.argmax(axis=1), target_names=lb.classes_))\n",
    "N = np.arange(0, EPOCHS)\n",
    "plt.style.use(\"ggplot\")\n",
    "plt.figure()\n",
    "plt.plot(N, H.history[\"loss\"], label=\"train_loss\")\n",
    "plt.plot(N, H.history[\"val_loss\"], label=\"val_loss\")\n",
    "plt.plot(N, H.history[\"acc\"], label=\"train_acc\")\n",
    "plt.plot(N, H.history[\"val_acc\"], label=\"val_acc\")\n",
    "plt.title(\"Training Loss and Accuracy (Mini VGG)\")\n",
    "plt.xlabel(\"Epoch #\")\n",
    "plt.ylabel(\"Loss/Accuracy\")\n",
    "plt.legend()\n",
    "plt.show()"
   ]
  }
 ],
 "metadata": {
  "kernelspec": {
   "display_name": "Python 3",
   "language": "python",
   "name": "python3"
  },
  "language_info": {
   "codemirror_mode": {
    "name": "ipython",
    "version": 3
   },
   "file_extension": ".py",
   "mimetype": "text/x-python",
   "name": "python",
   "nbconvert_exporter": "python",
   "pygments_lexer": "ipython3",
   "version": "3.6.7"
  }
 },
 "nbformat": 4,
 "nbformat_minor": 2
}
